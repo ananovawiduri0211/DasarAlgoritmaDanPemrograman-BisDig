{
  "nbformat": 4,
  "nbformat_minor": 0,
  "metadata": {
    "colab": {
      "provenance": []
    },
    "kernelspec": {
      "name": "python3",
      "display_name": "Python 3"
    },
    "language_info": {
      "name": "python"
    }
  },
  "cells": [
    {
      "cell_type": "markdown",
      "source": [
        "fungsi untuk menghitung faktorial dari suatu bilangan menggunakan metode rekursif"
      ],
      "metadata": {
        "id": "_pYLEoV-LXkc"
      }
    },
    {
      "cell_type": "code",
      "source": [
        "def faktorial(n):\n",
        "    # Basis kasus: faktorial dari 0 atau 1 adalah 1\n",
        "    if n == 0 or n == 1:\n",
        "        return 1\n",
        "    else:\n",
        "        # Rekursi: n * faktorial dari (n-1)\n",
        "        return n * faktorial(n - 1)\n",
        "\n",
        "# Meminta input dari pengguna\n",
        "angka = int(input(\"Masukkan angka untuk menghitung faktorial: \"))\n",
        "\n",
        "# Memastikan input adalah angka non-negatif\n",
        "if angka < 0:\n",
        "    print(\"Faktorial tidak terdefinisi untuk angka negatif.\")\n",
        "else:\n",
        "    hasil = faktorial(angka)\n",
        "    print(f\"Faktorial dari {angka} adalah {hasil}.\")"
      ],
      "metadata": {
        "colab": {
          "base_uri": "https://localhost:8080/"
        },
        "id": "TaPicjuo2Gcu",
        "outputId": "79facf9b-2a56-4ba8-f3b2-8669dd91e866"
      },
      "execution_count": 1,
      "outputs": [
        {
          "output_type": "stream",
          "name": "stdout",
          "text": [
            "Masukkan angka untuk menghitung faktorial: 4\n",
            "Faktorial dari 4 adalah 24.\n"
          ]
        }
      ]
    },
    {
      "cell_type": "markdown",
      "source": [
        "sistem input nilai 5 siswa dan mencari nilai tertinggi"
      ],
      "metadata": {
        "id": "NF1OpY9WLkhN"
      }
    },
    {
      "cell_type": "code",
      "source": [
        "# Fungsi untuk menerima input nilai siswa\n",
        "def input_nilai():\n",
        "    nilai = []\n",
        "    jumlah_siswa = int(input(\"Masukkan jumlah siswa: \"))\n",
        "\n",
        "    for i in range(jumlah_siswa):\n",
        "        nilai_siswa = float(input(f\"Masukkan nilai siswa ke-{i + 1}: \"))\n",
        "        nilai.append(nilai_siswa)\n",
        "\n",
        "    return nilai\n",
        "\n",
        "# Fungsi untuk mencari nilai tertinggi dan indeksnya\n",
        "def nilai_tertinggi(nilai):\n",
        "    tertinggi = max(nilai)\n",
        "    indeks = nilai.index(tertinggi) + 1  # Menambahkan 1 untuk indeks siswa\n",
        "    return tertinggi, indeks\n",
        "\n",
        "# Main program\n",
        "nilai_siswa = input_nilai()\n",
        "tertinggi, indeks_siswa = nilai_tertinggi(nilai_siswa)\n",
        "\n",
        "print(f\"Nilai tertinggi adalah {tertinggi} dan siswa ke-{indeks_siswa} mendapatkannya.\")\n"
      ],
      "metadata": {
        "colab": {
          "base_uri": "https://localhost:8080/"
        },
        "id": "2sNTD0_0Lu-3",
        "outputId": "12e9cb80-ab20-497d-bd86-cfbdf5bdc0a8"
      },
      "execution_count": null,
      "outputs": [
        {
          "output_type": "stream",
          "name": "stdout",
          "text": [
            "Masukkan jumlah siswa: 5\n",
            "Masukkan nilai siswa ke-1: 99\n",
            "Masukkan nilai siswa ke-2: 98\n",
            "Masukkan nilai siswa ke-3: 97\n",
            "Masukkan nilai siswa ke-4: 96\n",
            "Masukkan nilai siswa ke-5: 95\n",
            "Nilai tertinggi adalah 99.0 dan siswa ke-1 mendapatkannya.\n"
          ]
        }
      ]
    },
    {
      "cell_type": "markdown",
      "source": [
        "Diskon 10% Ecommerce"
      ],
      "metadata": {
        "id": "yKBc9dVpMQf2"
      }
    },
    {
      "cell_type": "code",
      "source": [
        "def hitung_diskon(total_belanja, persentase_diskon):\n",
        "    return total_belanja * (persentase_diskon / 100)\n",
        "\n",
        "def total_bayar(total_belanja, batas_diskon, persentase_diskon):\n",
        "    if total_belanja > batas_diskon:\n",
        "        diskon = hitung_diskon(total_belanja, persentase_diskon)\n",
        "        total_belanja -= diskon\n",
        "        return total_belanja, diskon\n",
        "    else:\n",
        "        return total_belanja, 0\n",
        "\n",
        "# Main program\n",
        "batas_diskon = 100000  # Batas minimum untuk mendapatkan diskon\n",
        "persentase_diskon = 10  # Persentase diskon\n",
        "\n",
        "try:\n",
        "    total_belanja = float(input(\"Masukkan total belanja: \"))\n",
        "\n",
        "    total, diskon = total_bayar(total_belanja, batas_diskon, persentase_diskon)\n",
        "\n",
        "    if diskon > 0:\n",
        "        print(f\"Anda mendapatkan diskon sebesar {diskon:.2f}.\")\n",
        "    else:\n",
        "        print(\"Anda tidak mendapatkan diskon.\")\n",
        "\n",
        "    print(f\"Total bayar setelah diskon adalah: {total:.2f}\")\n",
        "except ValueError:\n",
        "    print(\"Input tidak valid. Harap masukkan angka yang benar.\")\n"
      ],
      "metadata": {
        "colab": {
          "base_uri": "https://localhost:8080/"
        },
        "id": "FIYhKdWAMcRQ",
        "outputId": "3842ca4d-c843-4f8a-bf3e-56cbc546f992"
      },
      "execution_count": null,
      "outputs": [
        {
          "output_type": "stream",
          "name": "stdout",
          "text": [
            "Masukkan total belanja: 700000\n",
            "Anda mendapatkan diskon sebesar 70000.00.\n",
            "Total bayar setelah diskon adalah: 630000.00\n"
          ]
        }
      ]
    }
  ]
}