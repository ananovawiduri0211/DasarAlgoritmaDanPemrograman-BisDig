{
  "nbformat": 4,
  "nbformat_minor": 0,
  "metadata": {
    "colab": {
      "provenance": []
    },
    "kernelspec": {
      "name": "python3",
      "display_name": "Python 3"
    },
    "language_info": {
      "name": "python"
    }
  },
  "cells": [
    {
      "cell_type": "markdown",
      "source": [
        "Studi Kasus Penghitungan Total Harga Barang Menggunakan Python\n",
        "\n"
      ],
      "metadata": {
        "id": "GGdisTLpPz6V"
      }
    },
    {
      "cell_type": "code",
      "execution_count": 1,
      "metadata": {
        "colab": {
          "base_uri": "https://localhost:8080/"
        },
        "id": "33j2pSh7M2c3",
        "outputId": "8089a658-bfb9-4dcf-d03c-ef85de4c88d2"
      },
      "outputs": [
        {
          "output_type": "stream",
          "name": "stdout",
          "text": [
            "Masukkan harga barang pertama: 25000\n",
            "Masukkan harga barang kedua: 58000\n",
            "Masukkan harga barang ketiga: 150000\n",
            "Total harga yang harus dibayar adalah: 233000.0\n"
          ]
        }
      ],
      "source": [
        "# Input harga barang\n",
        "harga1 = float(input(\"Masukkan harga barang pertama: \"))\n",
        "harga2 = float(input(\"Masukkan harga barang kedua: \"))\n",
        "harga3 = float(input(\"Masukkan harga barang ketiga: \"))\n",
        "\n",
        "# Proses menghitung total\n",
        "total = harga1 + harga2 + harga3\n",
        "\n",
        "# Output total harga\n",
        "print(\"Total harga yang harus dibayar adalah:\", total)\n"
      ]
    }
  ]
}