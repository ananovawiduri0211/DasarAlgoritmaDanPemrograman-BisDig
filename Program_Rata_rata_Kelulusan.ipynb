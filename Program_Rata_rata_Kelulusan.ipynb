{
  "nbformat": 4,
  "nbformat_minor": 0,
  "metadata": {
    "colab": {
      "provenance": []
    },
    "kernelspec": {
      "name": "python3",
      "display_name": "Python 3"
    },
    "language_info": {
      "name": "python"
    }
  },
  "cells": [
    {
      "cell_type": "code",
      "execution_count": 1,
      "metadata": {
        "colab": {
          "base_uri": "https://localhost:8080/"
        },
        "id": "FW-BREQ46Vmh",
        "outputId": "8ce4acac-7351-4067-b05f-5ac5dcf09a45"
      },
      "outputs": [
        {
          "output_type": "stream",
          "name": "stdout",
          "text": [
            "Masukkan jumlah nilai: 3\n",
            "Masukkan nilai ke-1: 95\n",
            "Masukkan nilai ke-2: 92\n",
            "Masukkan nilai ke-3: 90\n",
            "\n",
            "--- Hasil ---\n",
            "Rata-rata nilai: 92.33\n",
            "Status kelulusan: Lulus\n"
          ]
        }
      ],
      "source": [
        "def hitung_rata_rata(nilai_list):\n",
        "    return sum(nilai_list) / len(nilai_list)\n",
        "\n",
        "def tentukan_status_kelulusan(rata_rata):\n",
        "    return \"Lulus\" if rata_rata >= 75 else \"Tidak Lulus\"\n",
        "\n",
        "def main():\n",
        "    try:\n",
        "        jumlah_nilai = int(input(\"Masukkan jumlah nilai: \"))\n",
        "        nilai = []\n",
        "        for i in range(jumlah_nilai):\n",
        "            nilai_input = float(input(f\"Masukkan nilai ke-{i+1}: \"))\n",
        "            nilai.append(nilai_input)\n",
        "\n",
        "        rata_rata = hitung_rata_rata(nilai)\n",
        "        status = tentukan_status_kelulusan(rata_rata)\n",
        "\n",
        "        print(\"\\n--- Hasil ---\")\n",
        "        print(f\"Rata-rata nilai: {rata_rata:.2f}\")\n",
        "        print(f\"Status kelulusan: {status}\")\n",
        "    except ValueError:\n",
        "        print(\"Input tidak valid. Harap masukkan angka.\")\n",
        "\n",
        "if __name__ == \"__main__\":\n",
        "    main()\n"
      ]
    }
  ]
}