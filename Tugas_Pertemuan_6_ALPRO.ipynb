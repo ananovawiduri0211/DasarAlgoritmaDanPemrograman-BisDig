{
  "nbformat": 4,
  "nbformat_minor": 0,
  "metadata": {
    "colab": {
      "provenance": [],
      "authorship_tag": "ABX9TyNNYo/xk4YPdzXGkPWCVdmJ",
      "include_colab_link": true
    },
    "kernelspec": {
      "name": "python3",
      "display_name": "Python 3"
    },
    "language_info": {
      "name": "python"
    }
  },
  "cells": [
    {
      "cell_type": "markdown",
      "metadata": {
        "id": "view-in-github",
        "colab_type": "text"
      },
      "source": [
        "<a href=\"https://colab.research.google.com/github/ananovawiduri0211/DasarAlgoritmaDanPemrograman-BisDig/blob/main/Tugas_Pertemuan_6_ALPRO.ipynb\" target=\"_parent\"><img src=\"https://colab.research.google.com/assets/colab-badge.svg\" alt=\"Open In Colab\"/></a>"
      ]
    },
    {
      "cell_type": "markdown",
      "source": [
        "Tugas 1 Implementasi Operasi Matematika"
      ],
      "metadata": {
        "id": "PcTAEOi0fGA8"
      }
    },
    {
      "cell_type": "code",
      "source": [
        "Tugas 1 Operasi Matematika"
      ],
      "metadata": {
        "id": "_AuuSPtJiegd"
      },
      "execution_count": null,
      "outputs": []
    },
    {
      "cell_type": "code",
      "source": [
        "#@title Tugas 1: Operasi Matematika { display-mode: \"form\" }\n",
        "a = 10  #@param {type:\"number\"}\n",
        "b = 15  #@param {type:\"number\"}\n",
        "\n",
        "print(\"Tambah:\",     tambah(a, b))\n",
        "print(\"Kurang:\",     kurang(a, b))\n",
        "print(\"Kali:\",       kali(a, b))\n",
        "print(\"Bagi:\",       bagi(a, b))\n",
        "print(\"Pangkat:\",    pangkat(a, b))\n",
        "print(\"Faktorial a:\",\"\", faktorial(int(a)))\n",
        "print(\"Rata-rata:\",  rata_rata([a, b]))\n",
        "print(\"Median:\",     median([a, b]))\n",
        "\n"
      ],
      "metadata": {
        "colab": {
          "base_uri": "https://localhost:8080/"
        },
        "id": "NsLvLOqdpgvE",
        "outputId": "656278bd-284e-4820-cb82-f4f6b2dd7bbb"
      },
      "execution_count": null,
      "outputs": [
        {
          "output_type": "stream",
          "name": "stdout",
          "text": [
            "Tambah: 25\n",
            "Kurang: -5\n",
            "Kali: 150\n",
            "Bagi: 0.6666666666666666\n",
            "Pangkat: 1000000000000000\n",
            "Faktorial a:  3628800\n",
            "Rata-rata: 12.5\n",
            "Median: 12.5\n"
          ]
        }
      ]
    },
    {
      "cell_type": "markdown",
      "source": [
        "Tugas 2 Modular untuk Data Mahasiswa"
      ],
      "metadata": {
        "id": "zc-Dfng-qUdI"
      }
    },
    {
      "cell_type": "code",
      "source": [
        "#@title Tugas 2a: Tambah Mahasiswa { display-mode: \"form\" }\n",
        "nim   = \"12345\"     #@param {type:\"string\"}\n",
        "nama  = \"Ana\"     #@param {type:\"string\"}\n",
        "nilai = 95    #@param {type:\"number\"}\n",
        "\n",
        "# Memanggil fungsi tambah_mahasiswa\n",
        "tambah_mahasiswa(nim.strip(), nama.strip(), float(nilai))\n",
        "\n",
        "print(f\"✅ Ditambahkan: NIM={nim}, Nama={nama}, Nilai={nilai}\")\n",
        "print(\"Total data mahasiswa:\", len(mahasiswa))\n",
        "\n"
      ],
      "metadata": {
        "colab": {
          "base_uri": "https://localhost:8080/"
        },
        "id": "N_RSK84QxAvX",
        "outputId": "5b4fcbb4-ef60-4983-8154-61fec2072981"
      },
      "execution_count": null,
      "outputs": [
        {
          "output_type": "stream",
          "name": "stdout",
          "text": [
            "✅ Ditambahkan: NIM=12345, Nama=Ana, Nilai=95\n",
            "Total data mahasiswa: 4\n"
          ]
        }
      ]
    },
    {
      "cell_type": "code",
      "source": [
        "#@title Tugas 2b: Cari Mahasiswa { display-mode: \"form\" }\n",
        "mahasiswa = [\n",
        "    {'nim': '12345', 'nama': 'Ana', 'nilai': 95},\n",
        "    {'nim': '67890', 'nama': 'Budi', 'nilai': 85},\n",
        "    {'nim': '11223', 'nama': 'lala', 'nilai': 90},]\n",
        "\n",
        "keyword = \"Ana\"   #@param {type:\"string\"}\n",
        "\n",
        "hasil = cari_mahasiswa(keyword.strip())\n",
        "if hasil:\n",
        "    for m in hasil:\n",
        "        print(f\"NIM: {m['nim']}, Nama: {m['nama']}, Nilai: {m['nilai']}\")\n",
        "else:\n",
        "    print(\"Mahasiswa tidak ditemukan.\")"
      ],
      "metadata": {
        "colab": {
          "base_uri": "https://localhost:8080/"
        },
        "id": "lFuHjuJc2-c3",
        "outputId": "f1eb0295-6709-4436-d04a-b8cc941117b7"
      },
      "execution_count": null,
      "outputs": [
        {
          "output_type": "stream",
          "name": "stdout",
          "text": [
            "NIM: 12345, Nama: Ana, Nilai: 95\n"
          ]
        }
      ]
    },
    {
      "cell_type": "code",
      "source": [
        "#@title Tugas 2c/d: Statistik Mahasiswa { display-mode: \"code\" }\n",
        "mahasiswa = [\n",
        "    {'nim': '123', 'nama': 'Ana', 'nilai': 95},\n",
        "    {'nim': '456', 'nama': 'Budi', 'nilai': 85},\n",
        "    {'nim': '789', 'nama': 'lala', 'nilai': 90},\n",
        "]\n",
        "\n",
        "def rata_rata_nilai():\n",
        "    if not mahasiswa:\n",
        "        return None\n",
        "    total = sum(m['nilai'] for m in mahasiswa)\n",
        "    return total / len(mahasiswa)\n",
        "\n",
        "def peringkat_mahasiswa():\n",
        "    return sorted(mahasiswa, key=lambda m: m['nilai'], reverse=True)\n",
        "\n",
        "print(\"⦿ Rata-rata nilai:\", rata_rata_nilai())\n",
        "print(\"\\n⦿ Peringkat (desc):\")\n",
        "for i, m in enumerate(peringkat_mahasiswa(), 1):\n",
        "    print(f\"{i}. {m['nama']} ({m['nilai']})\")"
      ],
      "metadata": {
        "colab": {
          "base_uri": "https://localhost:8080/"
        },
        "id": "t1d4A6Dn5LrO",
        "outputId": "ed159d30-4a23-48ed-ccb3-fba0e7923615"
      },
      "execution_count": null,
      "outputs": [
        {
          "output_type": "stream",
          "name": "stdout",
          "text": [
            "⦿ Rata-rata nilai: 90.0\n",
            "\n",
            "⦿ Peringkat (desc):\n",
            "1. Ana (95)\n",
            "2. lala (90)\n",
            "3. Budi (85)\n"
          ]
        }
      ]
    },
    {
      "cell_type": "markdown",
      "source": [
        "Tugas 3 Library Fungsi Umum"
      ],
      "metadata": {
        "id": "nY5IaFMQi9SB"
      }
    },
    {
      "cell_type": "code",
      "source": [
        "#@title Tugas 3a Validasi Input: { display-mode: \"form\" }\n",
        "import re\n",
        "from datetime import datetime\n",
        "\n",
        "# ===== Fungsi Validasi =====\n",
        "\n",
        "def validasi_email(email):\n",
        "    pola = r'^[\\w\\.-]+@[\\w\\.-]+\\.\\w{2,}$'\n",
        "    return re.match(pola, email) is not None\n",
        "\n",
        "def validasi_nomor_telepon(nomor):\n",
        "    pola = r'^\\+?\\d{9,15}$'\n",
        "    return re.match(pola, nomor) is not None\n",
        "\n",
        "def validasi_tanggal(tanggal, format=\"%Y-%m-%d\"):\n",
        "    try:\n",
        "        datetime.strptime(tanggal, format)\n",
        "        return True\n",
        "    except ValueError:\n",
        "        return False\n",
        "\n",
        "# ===== Program Utama =====\n",
        "\n",
        "def main():\n",
        "    print(\"=== Validasi Input ===\")\n",
        "\n",
        "    # Validasi Email\n",
        "    email = input(\"Masukkan email: \")\n",
        "    if validasi_email(email):\n",
        "        print(\"✅ Email valid.\")\n",
        "    else:\n",
        "        print(\"❌ Email tidak valid.\")\n",
        "\n",
        "    # Validasi Nomor Telepon\n",
        "    nomor = input(\"Masukkan nomor telepon (cth: +628123456789): \")\n",
        "    if validasi_nomor_telepon(nomor):\n",
        "        print(\"✅ Nomor telepon valid.\")\n",
        "    else:\n",
        "        print(\"❌ Nomor telepon tidak valid.\")\n",
        "\n",
        "    # Validasi Tanggal\n",
        "    tanggal = input(\"Masukkan tanggal (format YYYY-MM-DD): \")\n",
        "    if validasi_tanggal(tanggal):\n",
        "        print(\"✅ Tanggal valid.\")\n",
        "    else:\n",
        "        print(\"❌ Tanggal tidak valid.\")\n",
        "\n",
        "if __name__ == \"__main__\":\n",
        "    main()\n"
      ],
      "metadata": {
        "id": "5uHdSG_hrUYO",
        "colab": {
          "base_uri": "https://localhost:8080/"
        },
        "outputId": "4137df76-2cc6-4f3c-fe62-6eecaade4dfc"
      },
      "execution_count": null,
      "outputs": [
        {
          "output_type": "stream",
          "name": "stdout",
          "text": [
            "=== Validasi Input ===\n",
            "Masukkan email: ananana@gmail.com\n",
            "✅ Email valid.\n",
            "Masukkan nomor telepon (cth: +628123456789): +62811223344567\n",
            "✅ Nomor telepon valid.\n",
            "Masukkan tanggal (format YYYY-MM-DD): 2001-11-02\n",
            "✅ Tanggal valid.\n"
          ]
        }
      ]
    },
    {
      "cell_type": "code",
      "source": [
        "#@title Tugas 3b Manipulasi String: { display-mode: \"form\" }\n",
        "# ===== Fungsi Manipulasi String =====\n",
        "\n",
        "def hitung_kata(teks):\n",
        "    return len(teks.strip().split())\n",
        "\n",
        "def format_teks(teks, mode='title'):\n",
        "    if mode == 'upper':\n",
        "        return teks.upper()\n",
        "    elif mode == 'lower':\n",
        "        return teks.lower()\n",
        "    elif mode == 'title':\n",
        "        return teks.title()\n",
        "    else:\n",
        "        return \"❌ Mode tidak dikenali!\"\n",
        "\n",
        "# ===== Program Utama =====\n",
        "\n",
        "def main():\n",
        "    print(\"=== Manipulasi String ===\")\n",
        "\n",
        "    teks = input(\"Masukkan teks: \")\n",
        "    print(f\"Jumlah kata: {hitung_kata(teks)}\")\n",
        "\n",
        "    print(\"Pilih mode format: (upper / lower / title)\")\n",
        "    mode = input(\"Mode: \").lower()\n",
        "\n",
        "    hasil = format_teks(teks, mode)\n",
        "    print(\"Hasil format teks:\", hasil)\n",
        "\n",
        "if __name__ == \"__main__\":\n",
        "    main()\n"
      ],
      "metadata": {
        "colab": {
          "base_uri": "https://localhost:8080/"
        },
        "id": "H08zdMEcBuru",
        "outputId": "439bf147-565e-4a2b-f485-6f02a271a04e"
      },
      "execution_count": null,
      "outputs": [
        {
          "output_type": "stream",
          "name": "stdout",
          "text": [
            "=== Manipulasi String ===\n",
            "Masukkan teks: kucing itu pergi\n",
            "Jumlah kata: 3\n",
            "Pilih mode format: (upper / lower / title)\n",
            "Mode: upper\n",
            "Hasil format teks: KUCING ITU PERGI\n"
          ]
        }
      ]
    },
    {
      "cell_type": "markdown",
      "source": [
        "Tugas 3c Operasikan file (membaca, menulis, memproses data dari file)"
      ],
      "metadata": {
        "id": "hqp2EEciHM0L"
      }
    },
    {
      "cell_type": "code",
      "source": [
        "import json\n",
        "import os\n",
        "\n",
        "DATA_FILE = 'library_data.json'\n",
        "\n",
        "def load_books(filename=DATA_FILE):\n",
        "    \"\"\"Load books from JSON file.\"\"\"\n",
        "    if not os.path.isfile(filename):\n",
        "        return []\n",
        "    try:\n",
        "        with open(filename, 'r', encoding='utf-8') as f:\n",
        "            data = json.load(f)\n",
        "            if isinstance(data, list):\n",
        "                return data\n",
        "            else:\n",
        "                print(\"File format error: data is not a list.\")\n",
        "                return []\n",
        "    except Exception as e:\n",
        "        print(f\"Error reading file: {e}\")\n",
        "        return []\n",
        "\n",
        "def save_books(books, filename=DATA_FILE):\n",
        "    \"\"\"Save books to JSON file.\"\"\"\n",
        "    try:\n",
        "        with open(filename, 'w', encoding='utf-8') as f:\n",
        "            json.dump(books, f, ensure_ascii=False, indent=2)\n",
        "        print(\"Data berhasil disimpan otomatis.\")\n",
        "    except Exception as e:\n",
        "        print(f\"Error writing file: {e}\")\n",
        "\n",
        "def add_book(books, title, author, year):\n",
        "    \"\"\"Add a new book to the list.\"\"\"\n",
        "    book = {\n",
        "        \"title\": title.strip(),\n",
        "        \"author\": author.strip(),\n",
        "        \"year\": year\n",
        "    }\n",
        "    books.append(book)\n",
        "    print(f'Buku \"{title}\" berhasil ditambahkan.')\n",
        "    save_books(books)  # Auto save on add\n",
        "\n",
        "def list_books(books):\n",
        "    \"\"\"Print a list of books.\"\"\"\n",
        "    if not books:\n",
        "        print(\"Belum ada data buku.\")\n",
        "        return\n",
        "    print(f\"\\nDaftar Buku ({len(books)}):\")\n",
        "    print(\"-\" * 40)\n",
        "    for i, book in enumerate(books, start=1):\n",
        "        print(f\"{i}. {book['title']} | Penulis: {book['author']} | Tahun: {book['year']}\")\n",
        "    print(\"-\" * 40)\n",
        "\n",
        "def find_books_by_author(books, author_name):\n",
        "    \"\"\"Find books by author.\"\"\"\n",
        "    filtered = [b for b in books if author_name.lower() in b['author'].lower()]\n",
        "    if filtered:\n",
        "        print(f'\\nBuku oleh penulis \"{author_name}\":')\n",
        "        for book in filtered:\n",
        "            print(f'- {book[\"title\"]} ({book[\"year\"]})')\n",
        "    else:\n",
        "        print(f'Tidak ditemukan buku oleh penulis \"{author_name}\".')\n",
        "\n",
        "def main():\n",
        "    books = load_books()\n",
        "    print(\"Data buku dimuat otomatis dari file.\")\n",
        "\n",
        "    while True:\n",
        "        print(\"\\n=== Sistem Perpustakaan Sederhana ===\")\n",
        "        print(\"1. Tambah buku\")\n",
        "        print(\"2. Lihat daftar buku\")\n",
        "        print(\"3. Cari buku berdasarkan penulis\")\n",
        "        print(\"4. Keluar\")\n",
        "        choice = input(\"Pilih menu (1-4): \").strip()\n",
        "\n",
        "        if choice == '1':\n",
        "            title = input(\"Judul Buku: \").strip()\n",
        "            author = input(\"Penulis: \").strip()\n",
        "            year_str = input(\"Tahun Terbit: \").strip()\n",
        "            if not title or not author or not year_str.isdigit():\n",
        "                print(\"Input tidak valid. Silakan coba lagi.\")\n",
        "                continue\n",
        "            year = int(year_str)\n",
        "            if year < 1000 or year > 2100:\n",
        "                print(\"Tahun tidak valid. Masukkan antara 1000 - 2100.\")\n",
        "                continue\n",
        "            add_book(books, title, author, year)\n",
        "        elif choice == '2':\n",
        "            list_books(books)\n",
        "        elif choice == '3':\n",
        "            author_search = input(\"Masukkan nama penulis yang dicari: \").strip()\n",
        "            if author_search:\n",
        "                find_books_by_author(books, author_search)\n",
        "            else:\n",
        "                print(\"Input tidak boleh kosong.\")\n",
        "        elif choice == '4':\n",
        "            print(\"Terima kasih sudah menggunakan program ini.\")\n",
        "            break\n",
        "        else:\n",
        "            print(\"Pilihan tidak valid. Silakan pilih menu 1-4.\")\n",
        "\n",
        "if __name__ == '__main__':\n",
        "    main()"
      ],
      "metadata": {
        "colab": {
          "base_uri": "https://localhost:8080/"
        },
        "id": "v3Rbd_rvEfoq",
        "outputId": "73b955aa-4cf1-429c-9396-93277cfea7c6"
      },
      "execution_count": null,
      "outputs": [
        {
          "output_type": "stream",
          "name": "stdout",
          "text": [
            "Data buku dimuat otomatis dari file.\n",
            "\n",
            "=== Sistem Perpustakaan Sederhana ===\n",
            "1. Tambah buku\n",
            "2. Lihat daftar buku\n",
            "3. Cari buku berdasarkan penulis\n",
            "4. Keluar\n",
            "Pilih menu (1-4): 1\n",
            "Judul Buku: gelap\n",
            "Penulis: david \n",
            "Tahun Terbit: 2019\n",
            "Buku \"gelap\" berhasil ditambahkan.\n",
            "Data berhasil disimpan otomatis.\n",
            "\n",
            "=== Sistem Perpustakaan Sederhana ===\n",
            "1. Tambah buku\n",
            "2. Lihat daftar buku\n",
            "3. Cari buku berdasarkan penulis\n",
            "4. Keluar\n",
            "Pilih menu (1-4): 1\n",
            "Judul Buku: terang \n",
            "Penulis: david\n",
            "Tahun Terbit: 2019\n",
            "Buku \"terang\" berhasil ditambahkan.\n",
            "Data berhasil disimpan otomatis.\n",
            "\n",
            "=== Sistem Perpustakaan Sederhana ===\n",
            "1. Tambah buku\n",
            "2. Lihat daftar buku\n",
            "3. Cari buku berdasarkan penulis\n",
            "4. Keluar\n",
            "Pilih menu (1-4): 1\n",
            "Judul Buku: matahari\n",
            "Penulis: puspita\n",
            "Tahun Terbit: 2019\n",
            "Buku \"matahari\" berhasil ditambahkan.\n",
            "Data berhasil disimpan otomatis.\n",
            "\n",
            "=== Sistem Perpustakaan Sederhana ===\n",
            "1. Tambah buku\n",
            "2. Lihat daftar buku\n",
            "3. Cari buku berdasarkan penulis\n",
            "4. Keluar\n",
            "Pilih menu (1-4): 2\n",
            "\n",
            "Daftar Buku (8):\n",
            "----------------------------------------\n",
            "1. terang | Penulis: david | Tahun: 2019\n",
            "2. gelap | Penulis: david | Tahun: 2019\n",
            "3. matahari | Penulis: puspita | Tahun: 2017\n",
            "4. terang | Penulis: david | Tahun: 2019\n",
            "5. gelap | Penulis: david | Tahun: 2019\n",
            "6. gelap | Penulis: david | Tahun: 2019\n",
            "7. terang | Penulis: david | Tahun: 2019\n",
            "8. matahari | Penulis: puspita | Tahun: 2019\n",
            "----------------------------------------\n",
            "\n",
            "=== Sistem Perpustakaan Sederhana ===\n",
            "1. Tambah buku\n",
            "2. Lihat daftar buku\n",
            "3. Cari buku berdasarkan penulis\n",
            "4. Keluar\n",
            "Pilih menu (1-4): 3\n",
            "Masukkan nama penulis yang dicari: david\n",
            "\n",
            "Buku oleh penulis \"david\":\n",
            "- terang (2019)\n",
            "- gelap (2019)\n",
            "- terang (2019)\n",
            "- gelap (2019)\n",
            "- gelap (2019)\n",
            "- terang (2019)\n",
            "\n",
            "=== Sistem Perpustakaan Sederhana ===\n",
            "1. Tambah buku\n",
            "2. Lihat daftar buku\n",
            "3. Cari buku berdasarkan penulis\n",
            "4. Keluar\n",
            "Pilih menu (1-4): 4\n",
            "Terima kasih sudah menggunakan program ini.\n"
          ]
        }
      ]
    }
  ]
}