{
  "nbformat": 4,
  "nbformat_minor": 0,
  "metadata": {
    "colab": {
      "provenance": []
    },
    "kernelspec": {
      "name": "python3",
      "display_name": "Python 3"
    },
    "language_info": {
      "name": "python"
    }
  },
  "cells": [
    {
      "cell_type": "markdown",
      "source": [
        "Implementasi Faktorial dan Fibonacci"
      ],
      "metadata": {
        "id": "y4ih6As9r_JV"
      }
    },
    {
      "cell_type": "code",
      "execution_count": null,
      "metadata": {
        "colab": {
          "base_uri": "https://localhost:8080/"
        },
        "id": "Qg08XjmDq4M6",
        "outputId": "eb61be60-719f-428b-9d47-5b75ca79835d"
      },
      "outputs": [
        {
          "output_type": "stream",
          "name": "stdout",
          "text": [
            "=== Faktorial (20) ===\n",
            "Rekursif Dasar: Hasil = 2432902008176640000, Waktu = 0.000005 detik\n",
            "Rekursif + Memoization: Hasil = 2432902008176640000, Waktu = 0.000009 detik\n",
            "Iteratif: Hasil = 2432902008176640000, Waktu = 0.000004 detik\n",
            "\n",
            "=== Fibonacci (30) ===\n",
            "Rekursif Dasar: Hasil = 832040, Waktu = 0.165738 detik\n",
            "Rekursif + Memoization: Hasil = 832040, Waktu = 0.000025 detik\n",
            "Iteratif: Hasil = 832040, Waktu = 0.000007 detik\n"
          ]
        }
      ],
      "source": [
        "import time\n",
        "from functools import lru_cache\n",
        "\n",
        "# Faktorial\n",
        "\n",
        "def faktorial_rekursif(n):\n",
        "    if n == 0 or n == 1:\n",
        "        return 1\n",
        "    return n * faktorial_rekursif(n - 1)\n",
        "\n",
        "@lru_cache(maxsize=None)\n",
        "def faktorial_memo(n):\n",
        "    if n == 0 or n == 1:\n",
        "        return 1\n",
        "    return n * faktorial_memo(n - 1)\n",
        "\n",
        "def faktorial_iteratif(n):\n",
        "    hasil = 1\n",
        "    for i in range(2, n + 1):\n",
        "        hasil *= i\n",
        "    return hasil\n",
        "\n",
        "# Fibonacci\n",
        "\n",
        "def fibonacci_rekursif(n):\n",
        "    if n <= 1:\n",
        "        return n\n",
        "    return fibonacci_rekursif(n - 1) + fibonacci_rekursif(n - 2)\n",
        "\n",
        "@lru_cache(maxsize=None)\n",
        "def fibonacci_memo(n):\n",
        "    if n <= 1:\n",
        "        return n\n",
        "    return fibonacci_memo(n - 1) + fibonacci_memo(n - 2)\n",
        "\n",
        "def fibonacci_iteratif(n):\n",
        "    a, b = 0, 1\n",
        "    for _ in range(n):\n",
        "        a, b = b, a + b\n",
        "    return a\n",
        "\n",
        "# Fungsi untuk mengukur waktu eksekusi\n",
        "\n",
        "def ukur_waktu(func, n):\n",
        "    awal = time.time()\n",
        "    hasil = func(n)\n",
        "    akhir = time.time()\n",
        "    return hasil, akhir - awal\n",
        "\n",
        "# Uji dan bandingkan kinerja\n",
        "\n",
        "def bandingkan_kinerja(n_faktorial, n_fibonacci):\n",
        "    print(f\"=== Faktorial ({n_faktorial}) ===\")\n",
        "    for nama, fungsi in [\n",
        "        (\"Rekursif Dasar\", faktorial_rekursif),\n",
        "        (\"Rekursif + Memoization\", faktorial_memo),\n",
        "        (\"Iteratif\", faktorial_iteratif)\n",
        "    ]:\n",
        "        hasil, waktu_eksekusi = ukur_waktu(fungsi, n_faktorial)\n",
        "        print(f\"{nama}: Hasil = {hasil}, Waktu = {waktu_eksekusi:.6f} detik\")\n",
        "\n",
        "    print(f\"\\n=== Fibonacci ({n_fibonacci}) ===\")\n",
        "    for nama, fungsi in [\n",
        "        (\"Rekursif Dasar\", fibonacci_rekursif),\n",
        "        (\"Rekursif + Memoization\", fibonacci_memo),\n",
        "        (\"Iteratif\", fibonacci_iteratif)\n",
        "    ]:\n",
        "        hasil, waktu_eksekusi = ukur_waktu(fungsi, n_fibonacci)\n",
        "        print(f\"{nama}: Hasil = {hasil}, Waktu = {waktu_eksekusi:.6f} detik\")\n",
        "\n",
        "# Contoh penggunaan\n",
        "if __name__ == \"__main__\":\n",
        "    bandingkan_kinerja(n_faktorial=20, n_fibonacci=30)"
      ]
    },
    {
      "cell_type": "markdown",
      "source": [
        "Pencarian Biner Rekursif\n"
      ],
      "metadata": {
        "id": "Vq01hpWms4zb"
      }
    },
    {
      "cell_type": "code",
      "source": [
        "import random\n",
        "\n",
        "# Fungsi untuk menghasilkan array terurut dengan nilai acak\n",
        "def generate_sorted_array(size, min_val=0, max_val=100):\n",
        "    array = random.sample(range(min_val, max_val), size)\n",
        "    array.sort()\n",
        "    return array\n",
        "\n",
        "# Fungsi pencarian biner rekursif dengan penghitung perbandingan\n",
        "def binary_search_recursive(arr, target, low=0, high=None, comparisons=0):\n",
        "    if high is None:\n",
        "        high = len(arr) - 1\n",
        "\n",
        "    if low > high:\n",
        "        return -1, comparisons\n",
        "\n",
        "    mid = (low + high) // 2\n",
        "    comparisons += 1\n",
        "\n",
        "    if arr[mid] == target:\n",
        "        return mid, comparisons\n",
        "    elif arr[mid] > target:\n",
        "        return binary_search_recursive(arr, target, low, mid - 1, comparisons)\n",
        "    else:\n",
        "        return binary_search_recursive(arr, target, mid + 1, high, comparisons)\n",
        "\n",
        "# Uji coba program\n",
        "array = generate_sorted_array(10, 0, 50)\n",
        "target = array[random.randint(0, len(array) - 1)]  # Pilih target dari array agar pasti ada\n",
        "\n",
        "print(\"Array terurut:\", array)\n",
        "print(\"Mencari:\", target)\n",
        "\n",
        "index, total_comparisons = binary_search_recursive(array, target)\n",
        "\n",
        "if index != -1:\n",
        "    print(f\"Elemen ditemukan di indeks {index} (nilai = {array[index]})\")\n",
        "else:\n",
        "    print(\"Elemen tidak ditemukan.\")\n",
        "\n",
        "print(f\"Jumlah perbandingan: {total_comparisons}\")\n"
      ],
      "metadata": {
        "id": "AEgEPgWrr-DS",
        "colab": {
          "base_uri": "https://localhost:8080/"
        },
        "outputId": "895a5025-391a-4f63-9cd3-e165764f3e2f"
      },
      "execution_count": null,
      "outputs": [
        {
          "output_type": "stream",
          "name": "stdout",
          "text": [
            "Array terurut: [0, 5, 7, 12, 16, 24, 31, 32, 34, 42]\n",
            "Mencari: 0\n",
            "Elemen ditemukan di indeks 0 (nilai = 0)\n",
            "Jumlah perbandingan: 3\n"
          ]
        }
      ]
    },
    {
      "cell_type": "markdown",
      "source": [
        "Tower Of Hanoi"
      ],
      "metadata": {
        "id": "3JvRYQtQtepp"
      }
    },
    {
      "cell_type": "code",
      "source": [
        "import time\n",
        "\n",
        "def hanoi(n, asal, bantu, tujuan):\n",
        "    if n == 1:\n",
        "        print(f\"Pindahkan cakram 1 dari {asal} ke {tujuan}\")\n",
        "    else:\n",
        "        hanoi(n-1, asal, tujuan, bantu)\n",
        "        print(f\"Pindahkan cakram {n} dari {asal} ke {tujuan}\")\n",
        "        hanoi(n-1, bantu, asal, tujuan)\n",
        "\n",
        "def jalankan_hanoi(n):\n",
        "    print(f\"\\n=== Tower of Hanoi: n = {n} ===\")\n",
        "    start_time = time.time()\n",
        "    hanoi(n, 'A', 'B', 'C')\n",
        "    end_time = time.time()\n",
        "    total_moves = 2 ** n - 1\n",
        "    print(f\"\\nTotal langkah: {total_moves}\")\n",
        "    print(f\"Waktu eksekusi: {end_time - start_time:.6f} detik\")\n",
        "    print(\"Kompleksitas Waktu: O(2^n)\")\n",
        "    print(\"Kompleksitas Ruang: O(n)\")\n",
        "\n",
        "# Jalankan untuk n = 3, 4, dan 5\n",
        "for disks in [3, 4, 5]:\n",
        "    jalankan_hanoi(disks)\n"
      ],
      "metadata": {
        "colab": {
          "base_uri": "https://localhost:8080/"
        },
        "id": "ufJN0bQUteVq",
        "outputId": "5cf41b02-2b93-4b65-c944-6113974819fb"
      },
      "execution_count": null,
      "outputs": [
        {
          "output_type": "stream",
          "name": "stdout",
          "text": [
            "\n",
            "=== Tower of Hanoi: n = 3 ===\n",
            "Pindahkan cakram 1 dari A ke C\n",
            "Pindahkan cakram 2 dari A ke B\n",
            "Pindahkan cakram 1 dari C ke B\n",
            "Pindahkan cakram 3 dari A ke C\n",
            "Pindahkan cakram 1 dari B ke A\n",
            "Pindahkan cakram 2 dari B ke C\n",
            "Pindahkan cakram 1 dari A ke C\n",
            "\n",
            "Total langkah: 7\n",
            "Waktu eksekusi: 0.000031 detik\n",
            "Kompleksitas Waktu: O(2^n)\n",
            "Kompleksitas Ruang: O(n)\n",
            "\n",
            "=== Tower of Hanoi: n = 4 ===\n",
            "Pindahkan cakram 1 dari A ke B\n",
            "Pindahkan cakram 2 dari A ke C\n",
            "Pindahkan cakram 1 dari B ke C\n",
            "Pindahkan cakram 3 dari A ke B\n",
            "Pindahkan cakram 1 dari C ke A\n",
            "Pindahkan cakram 2 dari C ke B\n",
            "Pindahkan cakram 1 dari A ke B\n",
            "Pindahkan cakram 4 dari A ke C\n",
            "Pindahkan cakram 1 dari B ke C\n",
            "Pindahkan cakram 2 dari B ke A\n",
            "Pindahkan cakram 1 dari C ke A\n",
            "Pindahkan cakram 3 dari B ke C\n",
            "Pindahkan cakram 1 dari A ke B\n",
            "Pindahkan cakram 2 dari A ke C\n",
            "Pindahkan cakram 1 dari B ke C\n",
            "\n",
            "Total langkah: 15\n",
            "Waktu eksekusi: 0.000031 detik\n",
            "Kompleksitas Waktu: O(2^n)\n",
            "Kompleksitas Ruang: O(n)\n",
            "\n",
            "=== Tower of Hanoi: n = 5 ===\n",
            "Pindahkan cakram 1 dari A ke C\n",
            "Pindahkan cakram 2 dari A ke B\n",
            "Pindahkan cakram 1 dari C ke B\n",
            "Pindahkan cakram 3 dari A ke C\n",
            "Pindahkan cakram 1 dari B ke A\n",
            "Pindahkan cakram 2 dari B ke C\n",
            "Pindahkan cakram 1 dari A ke C\n",
            "Pindahkan cakram 4 dari A ke B\n",
            "Pindahkan cakram 1 dari C ke B\n",
            "Pindahkan cakram 2 dari C ke A\n",
            "Pindahkan cakram 1 dari B ke A\n",
            "Pindahkan cakram 3 dari C ke B\n",
            "Pindahkan cakram 1 dari A ke C\n",
            "Pindahkan cakram 2 dari A ke B\n",
            "Pindahkan cakram 1 dari C ke B\n",
            "Pindahkan cakram 5 dari A ke C\n",
            "Pindahkan cakram 1 dari B ke A\n",
            "Pindahkan cakram 2 dari B ke C\n",
            "Pindahkan cakram 1 dari A ke C\n",
            "Pindahkan cakram 3 dari B ke A\n",
            "Pindahkan cakram 1 dari C ke B\n",
            "Pindahkan cakram 2 dari C ke A\n",
            "Pindahkan cakram 1 dari B ke A\n",
            "Pindahkan cakram 4 dari B ke C\n",
            "Pindahkan cakram 1 dari A ke C\n",
            "Pindahkan cakram 2 dari A ke B\n",
            "Pindahkan cakram 1 dari C ke B\n",
            "Pindahkan cakram 3 dari A ke C\n",
            "Pindahkan cakram 1 dari B ke A\n",
            "Pindahkan cakram 2 dari B ke C\n",
            "Pindahkan cakram 1 dari A ke C\n",
            "\n",
            "Total langkah: 31\n",
            "Waktu eksekusi: 0.000055 detik\n",
            "Kompleksitas Waktu: O(2^n)\n",
            "Kompleksitas Ruang: O(n)\n"
          ]
        }
      ]
    }
  ]
}