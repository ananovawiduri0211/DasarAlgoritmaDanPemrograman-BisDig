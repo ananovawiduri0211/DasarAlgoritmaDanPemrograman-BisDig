{
  "nbformat": 4,
  "nbformat_minor": 0,
  "metadata": {
    "colab": {
      "provenance": []
    },
    "kernelspec": {
      "name": "python3",
      "display_name": "Python 3"
    },
    "language_info": {
      "name": "python"
    }
  },
  "cells": [
    {
      "cell_type": "code",
      "execution_count": 1,
      "metadata": {
        "colab": {
          "base_uri": "https://localhost:8080/"
        },
        "id": "HwDS8VvY57zQ",
        "outputId": "008ec2a4-9d36-4e5e-c8ec-8e29f2251793"
      },
      "outputs": [
        {
          "output_type": "stream",
          "name": "stdout",
          "text": [
            "Masukkan total belanja: 700000\n",
            "Anda mendapatkan diskon sebesar 70000.00.\n",
            "Total bayar setelah diskon adalah: 630000.00\n"
          ]
        }
      ],
      "source": [
        "def hitung_diskon(total_belanja, persentase_diskon):\n",
        "    return total_belanja * (persentase_diskon / 100)\n",
        "\n",
        "def total_bayar(total_belanja, batas_diskon, persentase_diskon):\n",
        "    if total_belanja > batas_diskon:\n",
        "        diskon = hitung_diskon(total_belanja, persentase_diskon)\n",
        "        total_belanja -= diskon\n",
        "        return total_belanja, diskon\n",
        "    else:\n",
        "        return total_belanja, 0\n",
        "\n",
        "# Main program\n",
        "batas_diskon = 100000  # Batas minimum untuk mendapatkan diskon\n",
        "persentase_diskon = 10  # Persentase diskon\n",
        "\n",
        "try:\n",
        "    total_belanja = float(input(\"Masukkan total belanja: \"))\n",
        "\n",
        "    total, diskon = total_bayar(total_belanja, batas_diskon, persentase_diskon)\n",
        "\n",
        "    if diskon > 0:\n",
        "        print(f\"Anda mendapatkan diskon sebesar {diskon:.2f}.\")\n",
        "    else:\n",
        "        print(\"Anda tidak mendapatkan diskon.\")\n",
        "\n",
        "    print(f\"Total bayar setelah diskon adalah: {total:.2f}\")\n",
        "except ValueError:\n",
        "    print(\"Input tidak valid. Harap masukkan angka yang benar.\")\n"
      ]
    }
  ]
}